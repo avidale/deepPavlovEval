{
 "cells": [
  {
   "cell_type": "code",
   "execution_count": 2,
   "metadata": {},
   "outputs": [],
   "source": [
    "from deepPavlovEval.evaluator import Evaluator"
   ]
  },
  {
   "cell_type": "markdown",
   "metadata": {},
   "source": [
    "The files were downloaded manually, because I work on Windows  `¯\\_(ツ)_/¯`"
   ]
  },
  {
   "cell_type": "code",
   "execution_count": 4,
   "metadata": {},
   "outputs": [
    {
     "name": "stderr",
     "output_type": "stream",
     "text": [
      "Cannot find C:\\Users\\david\\YandexDisk\\code\\NLP\\deepPavlovEval\\data\\Rusentiment\\valid.csv file\n"
     ]
    }
   ],
   "source": [
    "evaluator = Evaluator(tasks=['paraphraser', 'msrvid', 'xnli', 'rusentiment'])"
   ]
  },
  {
   "cell_type": "markdown",
   "metadata": {},
   "source": [
    "### Stupid baselines"
   ]
  },
  {
   "cell_type": "code",
   "execution_count": 5,
   "metadata": {},
   "outputs": [
    {
     "name": "stderr",
     "output_type": "stream",
     "text": [
      "Batches: 100%|███████████████████████████████████████████████████████████████████████████████████████████████████████████████████████████████████████████████████████████| 15/15 [00:00<00:00, 40.21it/s]\n",
      "Batches: 100%|███████████████████████████████████████████████████████████████████████████████████████████████████████████████████████████████████████████████████████████| 57/57 [00:01<00:00, 40.28it/s]\n",
      "Batches: 100%|█████████████████████████████████████████████████████████████████████████████████████████████████████████████████████████████████████████████████████████████| 6/6 [00:00<00:00, 50.44it/s]\n",
      "Batches: 100%|█████████████████████████████████████████████████████████████████████████████████████████████████████████████████████████████████████████████████████████| 20/20 [00:00<00:00, 1429.02it/s]\n",
      "Batches: 100%|█████████████████████████████████████████████████████████████████████████████████████████████████████████████████████████████████████████████████████████| 40/40 [00:00<00:00, 1334.72it/s]\n",
      "c:\\users\\david\\yandexdisk\\code\\scikit-learn\\sklearn\\svm\\_base.py:983: ConvergenceWarning: Liblinear failed to converge, increase the number of iterations.\n",
      "  \"the number of iterations.\", ConvergenceWarning)\n",
      "Batches: 100%|█████████████████████████████████████████████████████████████████████████████████████████████████████████████████████████████████████████████████████████| 55/55 [00:00<00:00, 2619.15it/s]\n",
      "Batches: 100%|█████████████████████████████████████████████████████████████████████████████████████████████████████████████████████████████████████████████████████████| 24/24 [00:00<00:00, 2999.68it/s]\n",
      "c:\\users\\david\\yandexdisk\\code\\scikit-learn\\sklearn\\svm\\_base.py:983: ConvergenceWarning: Liblinear failed to converge, increase the number of iterations.\n",
      "  \"the number of iterations.\", ConvergenceWarning)\n"
     ]
    }
   ],
   "source": [
    "import numpy as np\n",
    "\n",
    "class MyRandomEmbedder:\n",
    "    def __call__(self, batch):\n",
    "        return np.random.uniform(size=(len(batch), 300))\n",
    "\n",
    "my_embedder = MyRandomEmbedder()\n",
    "results_random = evaluator.evaluate(my_embedder, model_name='random_embedder')"
   ]
  },
  {
   "cell_type": "code",
   "execution_count": 6,
   "metadata": {},
   "outputs": [
    {
     "data": {
      "text/plain": [
       "{'paraphraser': {'f1_best': 0.7502467917077986,\n",
       "  'accuracy_best': 0.6003159557661928,\n",
       "  'roc_auc': 0.5076000277373275},\n",
       " 'msrvid': {'pearson correlation': 0.02738218969120966},\n",
       " 'xnli': {'f1(clf_knn)': 0.3289066495921835,\n",
       "  'accuracy(clf_knn)': 0.3385229540918164,\n",
       "  'f1(clf_svm)': 0.3251171044160763,\n",
       "  'accuracy(clf_svm)': 0.325748502994012},\n",
       " 'rusentiment': {'f1(clf_knn)': 0.17661551852571725,\n",
       "  'accuracy(clf_knn)': 0.3356926188068756,\n",
       "  'f1(clf_svm)': 0.15882231036806688,\n",
       "  'accuracy(clf_svm)': 0.4432086282440175}}"
      ]
     },
     "execution_count": 6,
     "metadata": {},
     "output_type": "execute_result"
    }
   ],
   "source": [
    "results_random"
   ]
  },
  {
   "cell_type": "markdown",
   "metadata": {},
   "source": [
    "```\n",
    "{'msrvid': {'pearson correlation': -0.03367712116853958},\n",
    " 'paraphraser': {'accuracy_best': 0.5997893628225381,\n",
    "  'f1_best': 0.749835418038183,\n",
    "  'roc_auc': 0.5005397221644361},\n",
    " 'rusentiment': {'accuracy(clf_knn)': 0.33367037411526795,\n",
    "  'accuracy(clf_svm)': 0.4368048533872599,\n",
    "  'f1(clf_knn)': 0.17950732500756778,\n",
    "  'f1(clf_svm)': 0.16038301601855842},\n",
    " 'xnli': {'accuracy(clf_knn)': 0.3343313373253493,\n",
    "  'accuracy(clf_svm)': 0.3277445109780439,\n",
    "  'f1(clf_knn)': 0.322089939622696,\n",
    "  'f1(clf_svm)': 0.326212625584307}}\n",
    " ```"
   ]
  },
  {
   "cell_type": "code",
   "execution_count": 70,
   "metadata": {},
   "outputs": [],
   "source": [
    "??HashingVectorizer"
   ]
  },
  {
   "cell_type": "code",
   "execution_count": 88,
   "metadata": {},
   "outputs": [],
   "source": [
    "from sklearn.feature_extraction.text import HashingVectorizer\n",
    "from sklearn.random_projection import GaussianRandomProjection\n",
    "from sklearn.pipeline import make_pipeline\n",
    "\n",
    "\n",
    "class RandomProjectionEmbedder:\n",
    "    def __init__(self, n_components=300, n_features=1_000):\n",
    "        self.model = make_pipeline(HashingVectorizer(n_features=n_features), GaussianRandomProjection(n_components=n_components))\n",
    "        self.model.fit(['привет, как дела'] * 10)\n",
    "    def __call__(self, batch):\n",
    "        return self.model.transform([' '.join(toks) for toks in batch])\n",
    "    \n",
    "\n",
    "class HashEmbedder:\n",
    "    def __init__(self, n_features=300):\n",
    "        self.model = HashingVectorizer(n_features=n_features, analyzer='char', ngram_range=(2,6))\n",
    "        self.model.fit(['привет, как дела'] * 10)\n",
    "    def __call__(self, batch):\n",
    "        return self.model.transform([' '.join(toks) for toks in batch]).todense()"
   ]
  },
  {
   "cell_type": "code",
   "execution_count": 93,
   "metadata": {},
   "outputs": [
    {
     "name": "stderr",
     "output_type": "stream",
     "text": [
      "Batches: 100%|███████████████████████████████████████████████████████████████████████████████████████████████████████████████████████████████████████████████████████████| 15/15 [00:00<00:00, 28.68it/s]\n",
      "Batches: 100%|███████████████████████████████████████████████████████████████████████████████████████████████████████████████████████████████████████████████████████████| 57/57 [00:01<00:00, 30.98it/s]\n",
      "Batches: 100%|█████████████████████████████████████████████████████████████████████████████████████████████████████████████████████████████████████████████████████████████| 6/6 [00:00<00:00, 38.21it/s]\n",
      "Batches: 100%|██████████████████████████████████████████████████████████████████████████████████████████████████████████████████████████████████████████████████████████| 20/20 [00:00<00:00, 175.44it/s]\n",
      "Batches: 100%|██████████████████████████████████████████████████████████████████████████████████████████████████████████████████████████████████████████████████████████| 40/40 [00:00<00:00, 186.05it/s]\n",
      "Batches: 100%|██████████████████████████████████████████████████████████████████████████████████████████████████████████████████████████████████████████████████████████| 55/55 [00:00<00:00, 323.45it/s]\n",
      "Batches: 100%|██████████████████████████████████████████████████████████████████████████████████████████████████████████████████████████████████████████████████████████| 24/24 [00:00<00:00, 369.41it/s]\n"
     ]
    },
    {
     "data": {
      "text/plain": [
       "{'paraphraser': {'f1_best': 0.7612994350282485,\n",
       "  'accuracy_best': 0.6666666666666666,\n",
       "  'roc_auc': 0.7560999006079099},\n",
       " 'msrvid': {'pearson correlation': 0.6356991802481946},\n",
       " 'xnli': {'f1(clf_knn)': 0.3775236147608783,\n",
       "  'accuracy(clf_knn)': 0.39840319361277443,\n",
       "  'f1(clf_svm)': 0.4211752465264074,\n",
       "  'accuracy(clf_svm)': 0.4213572854291417},\n",
       " 'rusentiment': {'f1(clf_knn)': 0.2866320708061392,\n",
       "  'accuracy(clf_knn)': 0.4256825075834176,\n",
       "  'f1(clf_svm)': 0.28752839088410587,\n",
       "  'accuracy(clf_svm)': 0.47960903269295585}}"
      ]
     },
     "execution_count": 93,
     "metadata": {},
     "output_type": "execute_result"
    }
   ],
   "source": [
    "rpe = RandomProjectionEmbedder(n_components=300, n_features=1000)\n",
    "results_rnd_1k_300 = evaluator.evaluate(rpe, model_name='rand_proj')\n",
    "results_rnd_1k_300"
   ]
  },
  {
   "cell_type": "code",
   "execution_count": 94,
   "metadata": {},
   "outputs": [],
   "source": [
    "# he = HashEmbedder(n_features=300)\n",
    "# results_he = evaluator.evaluate(he, model_name='hash_emb')\n",
    "# ValueError: Classification metrics can't handle a mix of binary and multilabel-indicator targets"
   ]
  },
  {
   "cell_type": "markdown",
   "metadata": {},
   "source": [
    "## Strong baselines"
   ]
  },
  {
   "cell_type": "markdown",
   "metadata": {},
   "source": [
    "### Laser"
   ]
  },
  {
   "cell_type": "code",
   "execution_count": 9,
   "metadata": {},
   "outputs": [],
   "source": [
    "from laserembeddings import Laser\n",
    "laser = Laser()"
   ]
  },
  {
   "cell_type": "code",
   "execution_count": 10,
   "metadata": {},
   "outputs": [],
   "source": [
    "class LaserEmbedder:\n",
    "    def __init__(self, model, lang='ru'):\n",
    "        self.model = model\n",
    "    def __call__(self, batch):\n",
    "        return self.model.embed_sentences([' '.join(toks) for toks in batch], lang='ru')"
   ]
  },
  {
   "cell_type": "code",
   "execution_count": 11,
   "metadata": {},
   "outputs": [],
   "source": [
    "lemb = LaserEmbedder(laser)"
   ]
  },
  {
   "cell_type": "code",
   "execution_count": 12,
   "metadata": {},
   "outputs": [
    {
     "name": "stderr",
     "output_type": "stream",
     "text": [
      "Batches: 100%|███████████████████████████████████████████████████████████████████████████████████████████████████████████████████████████████████████████████████████████| 15/15 [00:04<00:00,  3.68it/s]\n",
      "Batches: 100%|███████████████████████████████████████████████████████████████████████████████████████████████████████████████████████████████████████████████████████████| 57/57 [00:14<00:00,  3.86it/s]\n",
      "Batches: 100%|█████████████████████████████████████████████████████████████████████████████████████████████████████████████████████████████████████████████████████████████| 6/6 [00:01<00:00,  5.57it/s]\n",
      "Batches: 100%|███████████████████████████████████████████████████████████████████████████████████████████████████████████████████████████████████████████████████████████| 20/20 [00:06<00:00,  3.23it/s]\n",
      "Batches: 100%|███████████████████████████████████████████████████████████████████████████████████████████████████████████████████████████████████████████████████████████| 40/40 [00:12<00:00,  3.20it/s]\n",
      "Batches: 100%|███████████████████████████████████████████████████████████████████████████████████████████████████████████████████████████████████████████████████████████| 55/55 [00:17<00:00,  3.17it/s]\n",
      "Batches: 100%|███████████████████████████████████████████████████████████████████████████████████████████████████████████████████████████████████████████████████████████| 24/24 [00:06<00:00,  3.57it/s]\n"
     ]
    }
   ],
   "source": [
    "results_laser = evaluator.evaluate(lemb, model_name='laser')"
   ]
  },
  {
   "cell_type": "code",
   "execution_count": 13,
   "metadata": {},
   "outputs": [
    {
     "data": {
      "text/plain": [
       "{'paraphraser': {'f1_best': 0.8009118541033435,\n",
       "  'accuracy_best': 0.732490784623486,\n",
       "  'roc_auc': 0.824477035804267},\n",
       " 'msrvid': {'pearson correlation': 0.7852007776466857},\n",
       " 'xnli': {'f1(clf_knn)': 0.3876252346738623,\n",
       "  'accuracy(clf_knn)': 0.4303393213572854,\n",
       "  'f1(clf_svm)': 0.5789523556062265,\n",
       "  'accuracy(clf_svm)': 0.578443113772455},\n",
       " 'rusentiment': {'f1(clf_knn)': 0.3859377663023878,\n",
       "  'accuracy(clf_knn)': 0.4644421975058982,\n",
       "  'f1(clf_svm)': 0.5392892893853617,\n",
       "  'accuracy(clf_svm)': 0.6643073811931244}}"
      ]
     },
     "execution_count": 13,
     "metadata": {},
     "output_type": "execute_result"
    }
   ],
   "source": [
    "results_laser"
   ]
  },
  {
   "cell_type": "markdown",
   "metadata": {},
   "source": [
    "```\n",
    "{'msrvid': {'pearson correlation': 0.7852007833853631},\n",
    " 'paraphraser': {'accuracy_best': 0.732490784623486,\n",
    "  'f1_best': 0.8009118541033435,\n",
    "  'roc_auc': 0.824477035804267},\n",
    " 'rusentiment': {'accuracy(clf_knn)': 0.463768115942029,\n",
    "  'accuracy(clf_svm)': 0.6639703404111897,\n",
    "  'f1(clf_knn)': 0.3835021078852405,\n",
    "  'f1(clf_svm)': 0.5396652596949999},\n",
    " 'xnli': {'accuracy(clf_knn)': 0.4303393213572854,\n",
    "  'accuracy(clf_svm)': 0.578443113772455,\n",
    "  'f1(clf_knn)': 0.3876252346738623,\n",
    "  'f1(clf_svm)': 0.5789523556062265}}\n",
    "```"
   ]
  },
  {
   "cell_type": "markdown",
   "metadata": {},
   "source": [
    "### BERT   "
   ]
  },
  {
   "cell_type": "code",
   "execution_count": 58,
   "metadata": {},
   "outputs": [],
   "source": [
    "import torch\n",
    "\n",
    "def mean_pooling(model_output, attention_mask):\n",
    "    token_embeddings = model_output[0] #First element of model_output contains all token embeddings\n",
    "    input_mask_expanded = attention_mask.unsqueeze(-1).expand(token_embeddings.size()).float()\n",
    "    sum_embeddings = torch.sum(token_embeddings ** 2 * input_mask_expanded, 1)\n",
    "    sum_mask = torch.clamp(input_mask_expanded.sum([1]), min=1e-9)\n",
    "    sums = sum_embeddings / sum_mask\n",
    "    return sums\n",
    "\n",
    "def tokenize(text, model, tokenizer):\n",
    "    encoded_input = tokenizer(text, padding=True, truncation=True, max_length=128, return_tensors='pt')\n",
    "    encoded_input  = {k: v.to(model.device) for k, v in encoded_input.items()}\n",
    "    return encoded_input\n",
    "\n",
    "def embed_bert_cls(text, model, tokenizer):\n",
    "    t = tokenize(text, model, tokenizer)\n",
    "    with torch.no_grad():\n",
    "        model_output = model(**t)\n",
    "    embeddings = model_output.last_hidden_state[:, 0, :]\n",
    "    embeddings = torch.nn.functional.normalize(embeddings)\n",
    "    return embeddings[0].cpu().numpy()\n",
    "\n",
    "def embed_bert_cls2(text, model, tokenizer):\n",
    "    t = tokenize(text, model, tokenizer)\n",
    "    \n",
    "    with torch.no_grad():\n",
    "        model_output = model(**t)\n",
    "\n",
    "    embeddings = model_output.pooler_output\n",
    "    embeddings = torch.nn.functional.normalize(embeddings)\n",
    "    return embeddings[0].cpu().numpy()\n",
    "\n",
    "def embed_bert_pool(text, model, tokenizer):\n",
    "    t = tokenize(text, model, tokenizer)\n",
    "\n",
    "    with torch.no_grad():\n",
    "        model_output = model(**t)\n",
    "\n",
    "    sentence_embeddings = mean_pooling(model_output, t['attention_mask'])\n",
    "    return sentence_embeddings[0].cpu().numpy()\n",
    "\n",
    "\n",
    "POOLERS = {\n",
    "    'mean': embed_bert_pool, \n",
    "    'cls': embed_bert_cls, \n",
    "    'embed_bert_cls2': embed_bert_cls2\n",
    "}"
   ]
  },
  {
   "cell_type": "code",
   "execution_count": 46,
   "metadata": {},
   "outputs": [],
   "source": [
    "class BertEmbedder:\n",
    "    def __init__(self, model, tokenizer, pooling='mean'):\n",
    "        self.model = model\n",
    "        self.tokenizer = tokenizer\n",
    "        self.pooling = pooling\n",
    "        self.pooler = POOLERS[self.pooling]\n",
    "        \n",
    "    def __call__(self, batch):\n",
    "        return np.stack([self.pooler(' '.join(toks), model=self.model, tokenizer=self.tokenizer) for toks in batch])"
   ]
  },
  {
   "cell_type": "code",
   "execution_count": 22,
   "metadata": {},
   "outputs": [],
   "source": [
    "import torch\n",
    "from transformers import AutoTokenizer, BertModel\n",
    "m = 'C:/Users/david/Google Диск/models/tinybert-ru'\n",
    "m = 'cointegrated/rubert-tiny'\n",
    "\n",
    "tiny_tokenizer = AutoTokenizer.from_pretrained(m)\n",
    "tiny_bert = BertModel.from_pretrained(m)"
   ]
  },
  {
   "cell_type": "code",
   "execution_count": 89,
   "metadata": {},
   "outputs": [],
   "source": [
    "tiny_bert.cuda();"
   ]
  },
  {
   "cell_type": "code",
   "execution_count": 29,
   "metadata": {},
   "outputs": [],
   "source": [
    "tiny_be_mean = BertEmbedder(tiny_bert, tiny_tokenizer, pooling='mean')"
   ]
  },
  {
   "cell_type": "code",
   "execution_count": 32,
   "metadata": {},
   "outputs": [
    {
     "data": {
      "text/plain": [
       "(2, 312)"
      ]
     },
     "execution_count": 32,
     "metadata": {},
     "output_type": "execute_result"
    }
   ],
   "source": [
    "tiny_be_mean(['привет', 'как дела']).shape"
   ]
  },
  {
   "cell_type": "code",
   "execution_count": 33,
   "metadata": {},
   "outputs": [
    {
     "name": "stderr",
     "output_type": "stream",
     "text": [
      "Batches: 100%|███████████████████████████████████████████████████████████████████████████████████████████████████████████████████████████████████████████████████████████| 15/15 [00:16<00:00,  1.10s/it]\n",
      "Batches: 100%|███████████████████████████████████████████████████████████████████████████████████████████████████████████████████████████████████████████████████████████| 57/57 [01:07<00:00,  1.19s/it]\n",
      "Batches: 100%|█████████████████████████████████████████████████████████████████████████████████████████████████████████████████████████████████████████████████████████████| 6/6 [00:06<00:00,  1.01s/it]\n",
      "Batches: 100%|███████████████████████████████████████████████████████████████████████████████████████████████████████████████████████████████████████████████████████████| 20/20 [00:27<00:00,  1.36s/it]\n",
      "Batches: 100%|███████████████████████████████████████████████████████████████████████████████████████████████████████████████████████████████████████████████████████████| 40/40 [00:57<00:00,  1.44s/it]\n",
      "c:\\users\\david\\yandexdisk\\code\\scikit-learn\\sklearn\\svm\\_base.py:983: ConvergenceWarning: Liblinear failed to converge, increase the number of iterations.\n",
      "  \"the number of iterations.\", ConvergenceWarning)\n",
      "Batches: 100%|███████████████████████████████████████████████████████████████████████████████████████████████████████████████████████████████████████████████████████████| 55/55 [00:41<00:00,  1.34it/s]\n",
      "Batches: 100%|███████████████████████████████████████████████████████████████████████████████████████████████████████████████████████████████████████████████████████████| 24/24 [00:16<00:00,  1.42it/s]\n",
      "c:\\users\\david\\yandexdisk\\code\\scikit-learn\\sklearn\\svm\\_base.py:983: ConvergenceWarning: Liblinear failed to converge, increase the number of iterations.\n",
      "  \"the number of iterations.\", ConvergenceWarning)\n"
     ]
    }
   ],
   "source": [
    "results_tiny_mean = evaluator.evaluate(tiny_be_mean, model_name='tiny_bert_mean')"
   ]
  },
  {
   "cell_type": "code",
   "execution_count": 36,
   "metadata": {},
   "outputs": [
    {
     "data": {
      "text/plain": [
       "{'paraphraser': {'f1_best': 0.7692307692307694,\n",
       "  'accuracy_best': 0.6866771985255398,\n",
       "  'roc_auc': 0.7744758800822875},\n",
       " 'msrvid': {'pearson correlation': 0.6309384091299389},\n",
       " 'xnli': {'f1(clf_knn)': 0.3828383319167603,\n",
       "  'accuracy(clf_knn)': 0.3930139720558882,\n",
       "  'f1(clf_svm)': 0.4486706762918426,\n",
       "  'accuracy(clf_svm)': 0.4497005988023952},\n",
       " 'rusentiment': {'f1(clf_knn)': 0.3159630200452381,\n",
       "  'accuracy(clf_knn)': 0.4162453656892484,\n",
       "  'f1(clf_svm)': 0.43189772672789717,\n",
       "  'accuracy(clf_svm)': 0.49646107178968657}}"
      ]
     },
     "execution_count": 36,
     "metadata": {},
     "output_type": "execute_result"
    }
   ],
   "source": [
    "results_tiny_mean"
   ]
  },
  {
   "cell_type": "markdown",
   "metadata": {},
   "source": [
    "```\n",
    "{'paraphraser': {'f1_best': 0.7692307692307694,\n",
    "  'accuracy_best': 0.6866771985255398,\n",
    "  'roc_auc': 0.7744758800822875},\n",
    " 'msrvid': {'pearson correlation': 0.6309384091299389},\n",
    " 'xnli': {'f1(clf_knn)': 0.3828383319167603,\n",
    "  'accuracy(clf_knn)': 0.3930139720558882,\n",
    "  'f1(clf_svm)': 0.4486706762918426,\n",
    "  'accuracy(clf_svm)': 0.4497005988023952},\n",
    " 'rusentiment': {'f1(clf_knn)': 0.3159630200452381,\n",
    "  'accuracy(clf_knn)': 0.4162453656892484,\n",
    "  'f1(clf_svm)': 0.43189772672789717,\n",
    "  'accuracy(clf_svm)': 0.49646107178968657}}\n",
    "```"
   ]
  },
  {
   "cell_type": "code",
   "execution_count": 90,
   "metadata": {},
   "outputs": [
    {
     "name": "stderr",
     "output_type": "stream",
     "text": [
      "Batches: 100%|███████████████████████████████████████████████████████████████████████████████████████████████████████████████████████████████████████████████████████████| 15/15 [00:12<00:00,  1.19it/s]\n",
      "Batches: 100%|███████████████████████████████████████████████████████████████████████████████████████████████████████████████████████████████████████████████████████████| 57/57 [00:50<00:00,  1.13it/s]\n",
      "Batches: 100%|█████████████████████████████████████████████████████████████████████████████████████████████████████████████████████████████████████████████████████████████| 6/6 [00:05<00:00,  1.11it/s]\n",
      "Batches: 100%|███████████████████████████████████████████████████████████████████████████████████████████████████████████████████████████████████████████████████████████| 20/20 [00:17<00:00,  1.12it/s]\n",
      "Batches: 100%|███████████████████████████████████████████████████████████████████████████████████████████████████████████████████████████████████████████████████████████| 40/40 [00:35<00:00,  1.14it/s]\n",
      "Batches: 100%|███████████████████████████████████████████████████████████████████████████████████████████████████████████████████████████████████████████████████████████| 55/55 [00:24<00:00,  2.24it/s]\n",
      "Batches: 100%|███████████████████████████████████████████████████████████████████████████████████████████████████████████████████████████████████████████████████████████| 24/24 [00:11<00:00,  2.04it/s]\n"
     ]
    },
    {
     "data": {
      "text/plain": [
       "{'paraphraser': {'f1_best': 0.7625489498042007,\n",
       "  'accuracy_best': 0.6629805160610848,\n",
       "  'roc_auc': 0.7041178374130318},\n",
       " 'msrvid': {'pearson correlation': 0.2033127107868492},\n",
       " 'xnli': {'f1(clf_knn)': 0.43038332279043806,\n",
       "  'accuracy(clf_knn)': 0.44011976047904194,\n",
       "  'f1(clf_svm)': 0.5354242054153777,\n",
       "  'accuracy(clf_svm)': 0.5351297405189621},\n",
       " 'rusentiment': {'f1(clf_knn)': 0.2960205577709156,\n",
       "  'accuracy(clf_knn)': 0.41523424334344455,\n",
       "  'f1(clf_svm)': 0.34161389245064144,\n",
       "  'accuracy(clf_svm)': 0.5342096393663633}}"
      ]
     },
     "execution_count": 90,
     "metadata": {},
     "output_type": "execute_result"
    }
   ],
   "source": [
    "tiny_be_cls = BertEmbedder(tiny_bert, tiny_tokenizer, pooling='cls')\n",
    "results_tiny_cls = evaluator.evaluate(tiny_be_cls, model_name='tiny_bert_cls')\n",
    "results_tiny_cls"
   ]
  },
  {
   "cell_type": "markdown",
   "metadata": {},
   "source": [
    "#### RuBERT"
   ]
  },
  {
   "cell_type": "code",
   "execution_count": null,
   "metadata": {},
   "outputs": [],
   "source": []
  },
  {
   "cell_type": "code",
   "execution_count": 53,
   "metadata": {},
   "outputs": [],
   "source": [
    "m = 'DeepPavlov/rubert-base-cased-sentence'\n",
    "\n",
    "rubert_tokenizer = AutoTokenizer.from_pretrained(m)\n",
    "rubert = BertModel.from_pretrained(m)"
   ]
  },
  {
   "cell_type": "code",
   "execution_count": 54,
   "metadata": {},
   "outputs": [],
   "source": [
    "rubert.cuda();"
   ]
  },
  {
   "cell_type": "code",
   "execution_count": 59,
   "metadata": {},
   "outputs": [],
   "source": [
    "rubert_mean = BertEmbedder(rubert, rubert_tokenizer, pooling='mean')"
   ]
  },
  {
   "cell_type": "code",
   "execution_count": 60,
   "metadata": {},
   "outputs": [
    {
     "name": "stderr",
     "output_type": "stream",
     "text": [
      "Batches: 100%|███████████████████████████████████████████████████████████████████████████████████████████████████████████████████████████████████████████████████████████| 15/15 [00:42<00:00,  2.84s/it]\n",
      "Batches: 100%|███████████████████████████████████████████████████████████████████████████████████████████████████████████████████████████████████████████████████████████| 57/57 [02:54<00:00,  3.06s/it]\n",
      "Batches: 100%|█████████████████████████████████████████████████████████████████████████████████████████████████████████████████████████████████████████████████████████████| 6/6 [00:16<00:00,  2.83s/it]\n",
      "Batches: 100%|███████████████████████████████████████████████████████████████████████████████████████████████████████████████████████████████████████████████████████████| 20/20 [00:58<00:00,  2.94s/it]\n",
      "Batches: 100%|███████████████████████████████████████████████████████████████████████████████████████████████████████████████████████████████████████████████████████████| 40/40 [02:03<00:00,  3.09s/it]\n",
      "c:\\users\\david\\yandexdisk\\code\\scikit-learn\\sklearn\\svm\\_base.py:983: ConvergenceWarning: Liblinear failed to converge, increase the number of iterations.\n",
      "  \"the number of iterations.\", ConvergenceWarning)\n",
      "Batches: 100%|███████████████████████████████████████████████████████████████████████████████████████████████████████████████████████████████████████████████████████████| 55/55 [01:28<00:00,  1.60s/it]\n",
      "Batches: 100%|███████████████████████████████████████████████████████████████████████████████████████████████████████████████████████████████████████████████████████████| 24/24 [00:37<00:00,  1.57s/it]\n",
      "c:\\users\\david\\yandexdisk\\code\\scikit-learn\\sklearn\\svm\\_base.py:983: ConvergenceWarning: Liblinear failed to converge, increase the number of iterations.\n",
      "  \"the number of iterations.\", ConvergenceWarning)\n"
     ]
    }
   ],
   "source": [
    "results_rubert_mean = evaluator.evaluate(rubert_mean, model_name='rubert_mean')"
   ]
  },
  {
   "cell_type": "code",
   "execution_count": 62,
   "metadata": {},
   "outputs": [
    {
     "data": {
      "text/plain": [
       "{'paraphraser': {'f1_best': 0.8087091757387248,\n",
       "  'accuracy_best': 0.7546076882569773,\n",
       "  'roc_auc': 0.8327785867831634},\n",
       " 'msrvid': {'pearson correlation': 0.8123742768479439},\n",
       " 'xnli': {'f1(clf_knn)': 0.5428126989911436,\n",
       "  'accuracy(clf_knn)': 0.5580838323353293,\n",
       "  'f1(clf_svm)': 0.4794422206259023,\n",
       "  'accuracy(clf_svm)': 0.47964071856287427},\n",
       " 'rusentiment': {'f1(clf_knn)': 0.39051504233496886,\n",
       "  'accuracy(clf_knn)': 0.46006066734074824,\n",
       "  'f1(clf_svm)': 0.4477059525826297,\n",
       "  'accuracy(clf_svm)': 0.5321873946747556}}"
      ]
     },
     "execution_count": 62,
     "metadata": {},
     "output_type": "execute_result"
    }
   ],
   "source": [
    "results_rubert_mean"
   ]
  },
  {
   "cell_type": "code",
   "execution_count": 92,
   "metadata": {},
   "outputs": [
    {
     "name": "stderr",
     "output_type": "stream",
     "text": [
      "Batches: 100%|███████████████████████████████████████████████████████████████████████████████████████████████████████████████████████████████████████████████████████████| 15/15 [00:45<00:00,  3.00s/it]\n",
      "Batches: 100%|███████████████████████████████████████████████████████████████████████████████████████████████████████████████████████████████████████████████████████████| 57/57 [02:57<00:00,  3.11s/it]\n",
      "Batches: 100%|█████████████████████████████████████████████████████████████████████████████████████████████████████████████████████████████████████████████████████████████| 6/6 [00:16<00:00,  2.78s/it]\n",
      "Batches: 100%|███████████████████████████████████████████████████████████████████████████████████████████████████████████████████████████████████████████████████████████| 20/20 [01:02<00:00,  3.14s/it]\n",
      "Batches: 100%|███████████████████████████████████████████████████████████████████████████████████████████████████████████████████████████████████████████████████████████| 40/40 [02:01<00:00,  3.05s/it]\n",
      "c:\\users\\david\\yandexdisk\\code\\scikit-learn\\sklearn\\svm\\_base.py:983: ConvergenceWarning: Liblinear failed to converge, increase the number of iterations.\n",
      "  \"the number of iterations.\", ConvergenceWarning)\n",
      "Batches: 100%|███████████████████████████████████████████████████████████████████████████████████████████████████████████████████████████████████████████████████████████| 55/55 [01:29<00:00,  1.63s/it]\n",
      "Batches: 100%|███████████████████████████████████████████████████████████████████████████████████████████████████████████████████████████████████████████████████████████| 24/24 [00:36<00:00,  1.54s/it]\n",
      "c:\\users\\david\\yandexdisk\\code\\scikit-learn\\sklearn\\svm\\_base.py:983: ConvergenceWarning: Liblinear failed to converge, increase the number of iterations.\n",
      "  \"the number of iterations.\", ConvergenceWarning)\n"
     ]
    },
    {
     "data": {
      "text/plain": [
       "{'paraphraser': {'f1_best': 0.8087091757387248,\n",
       "  'accuracy_best': 0.7546076882569773,\n",
       "  'roc_auc': 0.8327785867831634},\n",
       " 'msrvid': {'pearson correlation': 0.8123742768479439},\n",
       " 'xnli': {'f1(clf_knn)': 0.5428126989911436,\n",
       "  'accuracy(clf_knn)': 0.5580838323353293,\n",
       "  'f1(clf_svm)': 0.4818714741034496,\n",
       "  'accuracy(clf_svm)': 0.4818363273453094},\n",
       " 'rusentiment': {'f1(clf_knn)': 0.39051504233496886,\n",
       "  'accuracy(clf_knn)': 0.46006066734074824,\n",
       "  'f1(clf_svm)': 0.44205428019048076,\n",
       "  'accuracy(clf_svm)': 0.5028648466464443}}"
      ]
     },
     "execution_count": 92,
     "metadata": {},
     "output_type": "execute_result"
    }
   ],
   "source": [
    "rubert_cls = BertEmbedder(rubert, rubert_tokenizer, pooling='cls')\n",
    "results_rubert_cls = evaluator.evaluate(rubert_mean, model_name='rubert_cls')\n",
    "results_rubert_cls"
   ]
  },
  {
   "cell_type": "markdown",
   "metadata": {},
   "source": [
    "# images"
   ]
  },
  {
   "cell_type": "markdown",
   "metadata": {},
   "source": [
    "Судя по этим картинкам, соотношение между моделями примерно такое:\n",
    "* На задаче детекции парафраз, маленький BERT заметно хуже большого (0.77 ROC AUC < 0.83)\n",
    "* На задаче semantic text similarity, маленький BERT совсем отстоен (0.63 pearson << 0.81)\n",
    "* На задаче NLI, маленький BERT заметно лучше большого (точность 0.53 > 0.48)\n",
    "* На задаче детекции сентимента, маленький BERT сопоставим с большим (точность 0.534 = 0.532). Впрочем, обе модели сильно хуже, чем LASER. "
   ]
  },
  {
   "cell_type": "code",
   "execution_count": 102,
   "metadata": {},
   "outputs": [
    {
     "name": "stdout",
     "output_type": "stream",
     "text": [
      "{'task': 'rusentiment', 'model': 'tiny_bert_mean', 'metrics': {'f1(clf_knn)': 0.3159630200452381, 'accuracy(clf_knn)': 0.4162453656892484, 'f1(clf_svm)': 0.43189772672789717, 'accuracy(clf_svm)': 0.49646107178968657}}\n",
      "{'task': 'rusentiment', 'model': 'rubert_mean', 'metrics': {'f1(clf_knn)': 0.39051504233496886, 'accuracy(clf_knn)': 0.46006066734074824, 'f1(clf_svm)': 0.4477059525826297, 'accuracy(clf_svm)': 0.5321873946747556}}\n",
      "{'task': 'rusentiment', 'model': 'tiny_bert_cls', 'metrics': {'f1(clf_knn)': 0.2960205577709156, 'accuracy(clf_knn)': 0.41523424334344455, 'f1(clf_svm)': 0.34161389245064144, 'accuracy(clf_svm)': 0.5342096393663633}}\n",
      "{'task': 'rusentiment', 'model': 'rubert_cls', 'metrics': {'f1(clf_knn)': 0.39051504233496886, 'accuracy(clf_knn)': 0.46006066734074824, 'f1(clf_svm)': 0.44205428019048076, 'accuracy(clf_svm)': 0.5028648466464443}}\n"
     ]
    }
   ],
   "source": [
    "for res in evaluator.all_results:\n",
    "    if res['task'] == 'rusentiment' and res['model'] in ['tiny_bert_mean', 'rubert_mean', 'tiny_bert_cls', 'rubert_cls']:\n",
    "        print(res)"
   ]
  },
  {
   "cell_type": "code",
   "execution_count": 96,
   "metadata": {
    "scrolled": false
   },
   "outputs": [
    {
     "data": {
      "image/png": "[encoded data removed]",
      "text/plain": [
       "<Figure size 864x720 with 1 Axes>"
      ]
     },
     "metadata": {},
     "output_type": "display_data"
    },
    {
     "data": {
      "image/png": "[encoded data removed]",
      "text/plain": [
       "<Figure size 864x720 with 1 Axes>"
      ]
     },
     "metadata": {},
     "output_type": "display_data"
    },
    {
     "data": {
      "image/png": "[encoded data removed]",
      "text/plain": [
       "<Figure size 864x720 with 1 Axes>"
      ]
     },
     "metadata": {},
     "output_type": "display_data"
    },
    {
     "data": {
      "image/png": "[encoded data removed]",
      "text/plain": [
       "<Figure size 864x720 with 1 Axes>"
      ]
     },
     "metadata": {},
     "output_type": "display_data"
    }
   ],
   "source": [
    "evaluator.plot_results(save=True, show=True, kind='bar', rot=0)"
   ]
  },
  {
   "cell_type": "markdown",
   "metadata": {},
   "source": []
  }
 ],
 "metadata": {
  "kernelspec": {
   "display_name": "Python 3",
   "language": "python",
   "name": "python3"
  },
  "language_info": {
   "codemirror_mode": {
    "name": "ipython",
    "version": 3
   },
   "file_extension": ".py",
   "mimetype": "text/x-python",
   "name": "python",
   "nbconvert_exporter": "python",
   "pygments_lexer": "ipython3",
   "version": "3.7.9"
  }
 },
 "nbformat": 4,
 "nbformat_minor": 4
}
